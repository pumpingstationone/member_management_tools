{
 "cells": [
  {
   "cell_type": "code",
   "execution_count": 2,
   "metadata": {},
   "outputs": [],
   "source": [
    "import base64\n",
    "import datetime\n",
    "import requests\n",
    "import json\n",
    "import pandas as pd\n",
    "import time"
   ]
  },
  {
   "cell_type": "code",
   "execution_count": 3,
   "metadata": {},
   "outputs": [],
   "source": [
    "import secrets"
   ]
  },
  {
   "cell_type": "code",
   "execution_count": 4,
   "metadata": {},
   "outputs": [],
   "source": [
    "credentials = \"%s:%s\" % (secrets.paypal_client_id, secrets.paypal_secret)\n",
    "auth_creds = base64.b64encode(credentials.encode('utf-8')).decode('utf-8').replace(\"\\n\", \"\")"
   ]
  },
  {
   "cell_type": "code",
   "execution_count": 51,
   "metadata": {},
   "outputs": [],
   "source": [
    "api_endpoint = \"https://api.paypal.com/v1\"\n",
    "#api_endpoint = \"https://api.sandbox.paypal.com/v1\""
   ]
  },
  {
   "cell_type": "code",
   "execution_count": 60,
   "metadata": {},
   "outputs": [],
   "source": [
    "def get_auth():\n",
    "    headers = {\n",
    "        \"Accept\": \"application/json\",\n",
    "        \"Accept-Language\": \"en_US\",\n",
    "        \"Authorization\": \"Basic \" + auth_creds\n",
    "    }\n",
    "\n",
    "    data = {\n",
    "        \"grant_type\": \"client_credentials\"\n",
    "    }\n",
    "\n",
    "    resp = requests.post(api_endpoint + \"/oauth2/token\",\n",
    "                         headers=headers,\n",
    "                         data=data)\n",
    "    return resp"
   ]
  },
  {
   "cell_type": "code",
   "execution_count": 67,
   "metadata": {},
   "outputs": [
    {
     "name": "stdout",
     "output_type": "stream",
     "text": [
      "401\n"
     ]
    }
   ],
   "source": [
    "auth = get_auth()\n",
    "print(auth.status_code)\n",
    "auth = auth.json()"
   ]
  },
  {
   "cell_type": "code",
   "execution_count": 68,
   "metadata": {},
   "outputs": [
    {
     "data": {
      "text/plain": [
       "{'error': 'invalid_client',\n",
       " 'error_description': 'Client Authentication failed'}"
      ]
     },
     "execution_count": 68,
     "metadata": {},
     "output_type": "execute_result"
    }
   ],
   "source": [
    "auth"
   ]
  },
  {
   "cell_type": "code",
   "execution_count": 63,
   "metadata": {},
   "outputs": [],
   "source": [
    "def get(endpoint, data=None):\n",
    "    if endpoint.startswith(\"http\"):\n",
    "            url = endpoint\n",
    "    elif endpoint.startswith(\"/\"):\n",
    "        url = \"{}{}\".format(api_endpoint, endpoint)\n",
    "    else:\n",
    "        url = \"{}/{}\".format(api_endpoint, endpoint)\n",
    "\n",
    "    response = requests.get(\n",
    "            url,\n",
    "            data=data,\n",
    "            headers= {\n",
    "                \"Content-Type\": \"application/json\",\n",
    "                \"Accept\": \"application/json\",\n",
    "                \"Authorization\": \"Bearer \" + auth['access_token'],\n",
    "            }\n",
    "        )\n",
    "    if response.status_code == 200:\n",
    "            return response.json()\n",
    "        \n",
    "    elif response.status_code == 401:\n",
    "        print(\"401: Unauthorized\")\n",
    "    elif response.status_code == 404:\n",
    "        print(\"404: Probably invalid endpoint\")\n",
    "    else:\n",
    "        print(\"ERROR IN REQUEST: {}\".format(response.content))\n",
    "    return response"
   ]
  },
  {
   "cell_type": "code",
   "execution_count": 64,
   "metadata": {},
   "outputs": [
    {
     "ename": "TypeError",
     "evalue": "byte indices must be integers or slices, not str",
     "output_type": "error",
     "traceback": [
      "\u001b[0;31m---------------------------------------------------------------------------\u001b[0m",
      "\u001b[0;31mTypeError\u001b[0m                                 Traceback (most recent call last)",
      "\u001b[0;32m<ipython-input-64-9a3377499b9a>\u001b[0m in \u001b[0;36m<module>\u001b[0;34m\u001b[0m\n\u001b[0;32m----> 1\u001b[0;31m \u001b[0mget\u001b[0m\u001b[0;34m(\u001b[0m\u001b[0;34m'payments/payment'\u001b[0m\u001b[0;34m)\u001b[0m\u001b[0;34m\u001b[0m\u001b[0m\n\u001b[0m",
      "\u001b[0;32m<ipython-input-63-1c447e671a65>\u001b[0m in \u001b[0;36mget\u001b[0;34m(endpoint, data)\u001b[0m\n\u001b[1;32m     13\u001b[0m                 \u001b[0;34m\"Content-Type\"\u001b[0m\u001b[0;34m:\u001b[0m \u001b[0;34m\"application/json\"\u001b[0m\u001b[0;34m,\u001b[0m\u001b[0;34m\u001b[0m\u001b[0m\n\u001b[1;32m     14\u001b[0m                 \u001b[0;34m\"Accept\"\u001b[0m\u001b[0;34m:\u001b[0m \u001b[0;34m\"application/json\"\u001b[0m\u001b[0;34m,\u001b[0m\u001b[0;34m\u001b[0m\u001b[0m\n\u001b[0;32m---> 15\u001b[0;31m                 \u001b[0;34m\"Authorization\"\u001b[0m\u001b[0;34m:\u001b[0m \u001b[0;34m\"Bearer \"\u001b[0m \u001b[0;34m+\u001b[0m \u001b[0mauth\u001b[0m\u001b[0;34m[\u001b[0m\u001b[0;34m'access_token'\u001b[0m\u001b[0;34m]\u001b[0m\u001b[0;34m,\u001b[0m\u001b[0;34m\u001b[0m\u001b[0m\n\u001b[0m\u001b[1;32m     16\u001b[0m             }\n\u001b[1;32m     17\u001b[0m         )\n",
      "\u001b[0;31mTypeError\u001b[0m: byte indices must be integers or slices, not str"
     ]
    }
   ],
   "source": [
    "get('payments/payment')"
   ]
  },
  {
   "cell_type": "code",
   "execution_count": null,
   "metadata": {},
   "outputs": [],
   "source": []
  }
 ],
 "metadata": {
  "kernelspec": {
   "display_name": "Python 3",
   "language": "python",
   "name": "python3"
  },
  "language_info": {
   "codemirror_mode": {
    "name": "ipython",
    "version": 3
   },
   "file_extension": ".py",
   "mimetype": "text/x-python",
   "name": "python",
   "nbconvert_exporter": "python",
   "pygments_lexer": "ipython3",
   "version": "3.5.2"
  }
 },
 "nbformat": 4,
 "nbformat_minor": 2
}
