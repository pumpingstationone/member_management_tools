{
 "cells": [
  {
   "cell_type": "markdown",
   "metadata": {},
   "source": [
    "# Membership Questions\n",
    "- How many members do we have of each type?\n",
    "- How many members are in good/bad standing?\n",
    "- How many members do we have paying what amounts?\n",
    "- How many people are authorized for each thing?\n",
    "- What is quorum?\n",
    "- Who is eligible to run for the board?\n",
    "- How many people voted in the last vote?"
   ]
  },
  {
   "cell_type": "markdown",
   "metadata": {},
   "source": [
    "# Voting\n",
    "- People should be able to automatically submit votes without having to wait for board reviewal\n",
    "- We could then have people enter a proposed vote date when they submit it, and automatically email all voting membership with the link to vote on it\n",
    "- Automatically email all members with results of vote"
   ]
  },
  {
   "cell_type": "markdown",
   "metadata": {},
   "source": [
    "# Needs to Switch\n",
    "- Domains to be switched on PS1 computers\n",
    "- All the existing AD stuff needs to be migrated\n",
    "- Authorizations to carry over form WildApricot to new AD"
   ]
  },
  {
   "cell_type": "code",
   "execution_count": 1,
   "metadata": {},
   "outputs": [],
   "source": [
    "import pandas as pd"
   ]
  },
  {
   "cell_type": "code",
   "execution_count": 2,
   "metadata": {},
   "outputs": [],
   "source": [
    "from wild_apricot import WildApricotAPI"
   ]
  },
  {
   "cell_type": "code",
   "execution_count": 3,
   "metadata": {},
   "outputs": [],
   "source": [
    "api = WildApricotAPI()"
   ]
  },
  {
   "cell_type": "code",
   "execution_count": 4,
   "metadata": {},
   "outputs": [
    {
     "name": "stdout",
     "output_type": "stream",
     "text": [
      "0 / 478\n",
      "40 / 478\n",
      "80 / 478\n",
      "120 / 478\n",
      "160 / 478\n",
      "200 / 478\n",
      "240 / 478\n",
      "280 / 478\n",
      "320 / 478\n",
      "360 / 478\n",
      "400 / 478\n",
      "440 / 478\n"
     ]
    }
   ],
   "source": [
    "auth_types = api.authorization_types()\n",
    "cdf = api.contact_info(sensitive=True)  # members\n",
    "adf = api.authorizations()  # authorizations\n",
    "pdf = api.payment_info()  # payments"
   ]
  },
  {
   "cell_type": "code",
   "execution_count": 5,
   "metadata": {},
   "outputs": [
    {
     "data": {
      "text/html": [
       "<div>\n",
       "<style scoped>\n",
       "    .dataframe tbody tr th:only-of-type {\n",
       "        vertical-align: middle;\n",
       "    }\n",
       "\n",
       "    .dataframe tbody tr th {\n",
       "        vertical-align: top;\n",
       "    }\n",
       "\n",
       "    .dataframe thead th {\n",
       "        text-align: right;\n",
       "    }\n",
       "</style>\n",
       "<table border=\"1\" class=\"dataframe\">\n",
       "  <thead>\n",
       "    <tr style=\"text-align: right;\">\n",
       "      <th></th>\n",
       "      <th>Authorizations</th>\n",
       "      <th>Email</th>\n",
       "      <th>FirstName</th>\n",
       "      <th>LastName</th>\n",
       "      <th>MembershipLevel</th>\n",
       "      <th>MembeshipEnabled</th>\n",
       "      <th>Status</th>\n",
       "      <th>TermsOfUseAccepted</th>\n",
       "    </tr>\n",
       "    <tr>\n",
       "      <th>ContactId</th>\n",
       "      <th></th>\n",
       "      <th></th>\n",
       "      <th></th>\n",
       "      <th></th>\n",
       "      <th></th>\n",
       "      <th></th>\n",
       "      <th></th>\n",
       "      <th></th>\n",
       "    </tr>\n",
       "  </thead>\n",
       "  <tbody>\n",
       "    <tr>\n",
       "      <th>46280627</th>\n",
       "      <td>[Epilog Laser]</td>\n",
       "      <td>*****@****.***</td>\n",
       "      <td>*****</td>\n",
       "      <td>*****</td>\n",
       "      <td>Area Host</td>\n",
       "      <td>True</td>\n",
       "      <td>Active</td>\n",
       "      <td>False</td>\n",
       "    </tr>\n",
       "    <tr>\n",
       "      <th>46994719</th>\n",
       "      <td>[]</td>\n",
       "      <td>*****@****.***</td>\n",
       "      <td>*****</td>\n",
       "      <td>*****</td>\n",
       "      <td>Starving Hacker</td>\n",
       "      <td>False</td>\n",
       "      <td>Lapsed</td>\n",
       "      <td>False</td>\n",
       "    </tr>\n",
       "    <tr>\n",
       "      <th>46821349</th>\n",
       "      <td>[]</td>\n",
       "      <td>*****@****.***</td>\n",
       "      <td>*****</td>\n",
       "      <td>*****</td>\n",
       "      <td>Starving Hacker</td>\n",
       "      <td>True</td>\n",
       "      <td>Active</td>\n",
       "      <td>False</td>\n",
       "    </tr>\n",
       "    <tr>\n",
       "      <th>46986614</th>\n",
       "      <td>[Epilog Laser, ShopBot]</td>\n",
       "      <td>*****@****.***</td>\n",
       "      <td>*****</td>\n",
       "      <td>*****</td>\n",
       "      <td>Full Membership - PayPal</td>\n",
       "      <td>True</td>\n",
       "      <td>Active</td>\n",
       "      <td>True</td>\n",
       "    </tr>\n",
       "    <tr>\n",
       "      <th>47902655</th>\n",
       "      <td>[]</td>\n",
       "      <td>*****@****.***</td>\n",
       "      <td>*****</td>\n",
       "      <td>*****</td>\n",
       "      <td>Starving Hacker</td>\n",
       "      <td>True</td>\n",
       "      <td>Active</td>\n",
       "      <td>False</td>\n",
       "    </tr>\n",
       "  </tbody>\n",
       "</table>\n",
       "</div>"
      ],
      "text/plain": [
       "                    Authorizations           Email FirstName LastName  \\\n",
       "ContactId                                                               \n",
       "46280627            [Epilog Laser]  *****@****.***     *****    *****   \n",
       "46994719                        []  *****@****.***     *****    *****   \n",
       "46821349                        []  *****@****.***     *****    *****   \n",
       "46986614   [Epilog Laser, ShopBot]  *****@****.***     *****    *****   \n",
       "47902655                        []  *****@****.***     *****    *****   \n",
       "\n",
       "                    MembershipLevel MembeshipEnabled  Status  \\\n",
       "ContactId                                                      \n",
       "46280627                  Area Host             True  Active   \n",
       "46994719            Starving Hacker            False  Lapsed   \n",
       "46821349            Starving Hacker             True  Active   \n",
       "46986614   Full Membership - PayPal             True  Active   \n",
       "47902655            Starving Hacker             True  Active   \n",
       "\n",
       "           TermsOfUseAccepted  \n",
       "ContactId                      \n",
       "46280627                False  \n",
       "46994719                False  \n",
       "46821349                False  \n",
       "46986614                 True  \n",
       "47902655                False  "
      ]
     },
     "execution_count": 5,
     "metadata": {},
     "output_type": "execute_result"
    }
   ],
   "source": [
    "cdf.head()"
   ]
  },
  {
   "cell_type": "code",
   "execution_count": 6,
   "metadata": {},
   "outputs": [
    {
     "data": {
      "text/html": [
       "<div>\n",
       "<style scoped>\n",
       "    .dataframe tbody tr th:only-of-type {\n",
       "        vertical-align: middle;\n",
       "    }\n",
       "\n",
       "    .dataframe tbody tr th {\n",
       "        vertical-align: top;\n",
       "    }\n",
       "\n",
       "    .dataframe thead th {\n",
       "        text-align: right;\n",
       "    }\n",
       "</style>\n",
       "<table border=\"1\" class=\"dataframe\">\n",
       "  <thead>\n",
       "    <tr style=\"text-align: right;\">\n",
       "      <th></th>\n",
       "      <th>AllocatedValue</th>\n",
       "      <th>Comment</th>\n",
       "      <th>ContactId</th>\n",
       "      <th>PaymentDate</th>\n",
       "      <th>PaymentId</th>\n",
       "      <th>TenderId</th>\n",
       "      <th>TenderName</th>\n",
       "      <th>Type</th>\n",
       "      <th>Value</th>\n",
       "    </tr>\n",
       "  </thead>\n",
       "  <tbody>\n",
       "    <tr>\n",
       "      <th>1127</th>\n",
       "      <td>70.0</td>\n",
       "      <td></td>\n",
       "      <td>46697076</td>\n",
       "      <td>2019-01-01</td>\n",
       "      <td>46518575</td>\n",
       "      <td>1159527.0</td>\n",
       "      <td>Stripe Recurring Payment</td>\n",
       "      <td>InvoicePayment</td>\n",
       "      <td>70.0</td>\n",
       "    </tr>\n",
       "    <tr>\n",
       "      <th>1376</th>\n",
       "      <td>40.0</td>\n",
       "      <td></td>\n",
       "      <td>46717474</td>\n",
       "      <td>2019-01-01</td>\n",
       "      <td>46518574</td>\n",
       "      <td>1159527.0</td>\n",
       "      <td>Stripe Recurring Payment</td>\n",
       "      <td>InvoicePayment</td>\n",
       "      <td>40.0</td>\n",
       "    </tr>\n",
       "    <tr>\n",
       "      <th>547</th>\n",
       "      <td>40.0</td>\n",
       "      <td></td>\n",
       "      <td>47564682</td>\n",
       "      <td>2019-01-01</td>\n",
       "      <td>46518558</td>\n",
       "      <td>1159527.0</td>\n",
       "      <td>Stripe Recurring Payment</td>\n",
       "      <td>InvoicePayment</td>\n",
       "      <td>40.0</td>\n",
       "    </tr>\n",
       "    <tr>\n",
       "      <th>392</th>\n",
       "      <td>40.0</td>\n",
       "      <td></td>\n",
       "      <td>47575028</td>\n",
       "      <td>2019-01-01</td>\n",
       "      <td>46518578</td>\n",
       "      <td>1159527.0</td>\n",
       "      <td>Stripe Recurring Payment</td>\n",
       "      <td>InvoicePayment</td>\n",
       "      <td>40.0</td>\n",
       "    </tr>\n",
       "    <tr>\n",
       "      <th>467</th>\n",
       "      <td>40.0</td>\n",
       "      <td></td>\n",
       "      <td>48410889</td>\n",
       "      <td>2019-01-01</td>\n",
       "      <td>46559246</td>\n",
       "      <td>1159527.0</td>\n",
       "      <td>Stripe Recurring Payment</td>\n",
       "      <td>InvoicePayment</td>\n",
       "      <td>40.0</td>\n",
       "    </tr>\n",
       "  </tbody>\n",
       "</table>\n",
       "</div>"
      ],
      "text/plain": [
       "      AllocatedValue Comment  ContactId PaymentDate  PaymentId   TenderId  \\\n",
       "1127            70.0           46697076  2019-01-01   46518575  1159527.0   \n",
       "1376            40.0           46717474  2019-01-01   46518574  1159527.0   \n",
       "547             40.0           47564682  2019-01-01   46518558  1159527.0   \n",
       "392             40.0           47575028  2019-01-01   46518578  1159527.0   \n",
       "467             40.0           48410889  2019-01-01   46559246  1159527.0   \n",
       "\n",
       "                    TenderName            Type  Value  \n",
       "1127  Stripe Recurring Payment  InvoicePayment   70.0  \n",
       "1376  Stripe Recurring Payment  InvoicePayment   40.0  \n",
       "547   Stripe Recurring Payment  InvoicePayment   40.0  \n",
       "392   Stripe Recurring Payment  InvoicePayment   40.0  \n",
       "467   Stripe Recurring Payment  InvoicePayment   40.0  "
      ]
     },
     "execution_count": 6,
     "metadata": {},
     "output_type": "execute_result"
    }
   ],
   "source": [
    "pdf.head()"
   ]
  },
  {
   "cell_type": "markdown",
   "metadata": {},
   "source": [
    "# How many members do we have of each type?"
   ]
  },
  {
   "cell_type": "code",
   "execution_count": 7,
   "metadata": {},
   "outputs": [
    {
     "data": {
      "text/plain": [
       "MembershipLevel\n",
       "Area Host                           12\n",
       "Board Member                         7\n",
       "Full Membership                     78\n",
       "Full Membership - Grandfathered      2\n",
       "Full Membership - PayPal            10\n",
       "Full Volunteer Authorizer            5\n",
       "Grant Membership (Full)              1\n",
       "Starving Hacker                    316\n",
       "Starving Hacker - PayPal            37\n",
       "Volunteer Authorizer                 5\n",
       "Name: Email, dtype: int64"
      ]
     },
     "execution_count": 7,
     "metadata": {},
     "output_type": "execute_result"
    }
   ],
   "source": [
    "cdf.groupby('MembershipLevel')['Email'].count()"
   ]
  },
  {
   "cell_type": "code",
   "execution_count": 10,
   "metadata": {},
   "outputs": [
    {
     "data": {
      "text/plain": [
       "MembershipLevel\n",
       "Area Host                           12\n",
       "Board Member                         7\n",
       "Full Membership                     66\n",
       "Full Membership - Grandfathered      2\n",
       "Full Membership - PayPal             7\n",
       "Full Volunteer Authorizer            5\n",
       "Grant Membership (Full)              1\n",
       "Starving Hacker                    237\n",
       "Starving Hacker - PayPal            27\n",
       "Volunteer Authorizer                 5\n",
       "Name: Email, dtype: int64"
      ]
     },
     "execution_count": 10,
     "metadata": {},
     "output_type": "execute_result"
    }
   ],
   "source": [
    "# Filtered by MembershipEnabled\n",
    "cdf[cdf[\"MembeshipEnabled\"].fillna(False)].groupby('MembershipLevel')['Email'].count()"
   ]
  },
  {
   "cell_type": "code",
   "execution_count": 9,
   "metadata": {},
   "outputs": [
    {
     "data": {
      "text/plain": [
       "MembershipLevel\n",
       "Area Host                           0\n",
       "Board Member                        1\n",
       "Full Membership                     4\n",
       "Full Membership - Grandfathered     0\n",
       "Full Membership - PayPal            2\n",
       "Full Volunteer Authorizer           1\n",
       "Grant Membership (Full)             0\n",
       "Starving Hacker                    27\n",
       "Starving Hacker - PayPal            7\n",
       "Volunteer Authorizer                0\n",
       "Name: Email, dtype: int64"
      ]
     },
     "execution_count": 9,
     "metadata": {},
     "output_type": "execute_result"
    }
   ],
   "source": [
    "# Members with \"Membership Disabled\"\n",
    "(cdf.groupby('MembershipLevel').count() -\n",
    "cdf[cdf[\"MembeshipEnabled\"]].groupby('MembershipLevel').count())['Email']"
   ]
  },
  {
   "cell_type": "markdown",
   "metadata": {},
   "source": [
    "# How many members are in good/bad standing?"
   ]
  },
  {
   "cell_type": "code",
   "execution_count": 10,
   "metadata": {},
   "outputs": [],
   "source": [
    "# Data cleanup\n",
    "pdf = pdf.sort_values(by=\"PaymentDate\", ascending=False)\n",
    "pdf['PaymentDate'] = pd.to_datetime(pdf['PaymentDate'])\n",
    "\n",
    "# Calculate days sincel ast payment\n",
    "latest_payment = pdf.groupby('ContactId').first().reset_index()\n",
    "latest_payment['days_since_last'] = (pd.Timestamp.today() - latest_payment[\"PaymentDate\"]).dt.days\n",
    "\n",
    "# Merge with contact data\n",
    "latest = latest_payment.merge(cdf, on=\"ContactId\")"
   ]
  },
  {
   "cell_type": "code",
   "execution_count": 11,
   "metadata": {},
   "outputs": [
    {
     "data": {
      "text/html": [
       "<div>\n",
       "<style scoped>\n",
       "    .dataframe tbody tr th:only-of-type {\n",
       "        vertical-align: middle;\n",
       "    }\n",
       "\n",
       "    .dataframe tbody tr th {\n",
       "        vertical-align: top;\n",
       "    }\n",
       "\n",
       "    .dataframe thead th {\n",
       "        text-align: right;\n",
       "    }\n",
       "</style>\n",
       "<table border=\"1\" class=\"dataframe\">\n",
       "  <thead>\n",
       "    <tr style=\"text-align: right;\">\n",
       "      <th></th>\n",
       "      <th>ContactId</th>\n",
       "      <th>AllocatedValue</th>\n",
       "      <th>Comment</th>\n",
       "      <th>PaymentDate</th>\n",
       "      <th>PaymentId</th>\n",
       "      <th>TenderId</th>\n",
       "      <th>TenderName</th>\n",
       "      <th>Type</th>\n",
       "      <th>Value</th>\n",
       "      <th>days_since_last</th>\n",
       "      <th>Authorizations</th>\n",
       "      <th>Email</th>\n",
       "      <th>FirstName</th>\n",
       "      <th>LastName</th>\n",
       "      <th>MembershipLevel</th>\n",
       "      <th>MembeshipEnabled</th>\n",
       "      <th>Status</th>\n",
       "      <th>TermsOfUseAccepted</th>\n",
       "    </tr>\n",
       "  </thead>\n",
       "  <tbody>\n",
       "    <tr>\n",
       "      <th>0</th>\n",
       "      <td>43719926</td>\n",
       "      <td>70.0</td>\n",
       "      <td></td>\n",
       "      <td>2018-11-16</td>\n",
       "      <td>45547773</td>\n",
       "      <td>1159527.0</td>\n",
       "      <td>Stripe Recurring Payment</td>\n",
       "      <td>InvoicePayment</td>\n",
       "      <td>70.0</td>\n",
       "      <td>18</td>\n",
       "      <td>[]</td>\n",
       "      <td>*****@****.***</td>\n",
       "      <td>*****</td>\n",
       "      <td>*****</td>\n",
       "      <td>Board Member</td>\n",
       "      <td>True</td>\n",
       "      <td>Active</td>\n",
       "      <td>True</td>\n",
       "    </tr>\n",
       "    <tr>\n",
       "      <th>1</th>\n",
       "      <td>43724423</td>\n",
       "      <td>30.0</td>\n",
       "      <td>Payment billing details:\\nAndrew Camardella \\n...</td>\n",
       "      <td>2018-12-04</td>\n",
       "      <td>45931504</td>\n",
       "      <td>1159526.0</td>\n",
       "      <td>Stripe</td>\n",
       "      <td>InvoicePayment</td>\n",
       "      <td>30.0</td>\n",
       "      <td>0</td>\n",
       "      <td>[Boss Laser, Epilog Laser, Universal Laser, Sh...</td>\n",
       "      <td>*****@****.***</td>\n",
       "      <td>*****</td>\n",
       "      <td>*****</td>\n",
       "      <td>Board Member</td>\n",
       "      <td>True</td>\n",
       "      <td>Active</td>\n",
       "      <td>True</td>\n",
       "    </tr>\n",
       "    <tr>\n",
       "      <th>2</th>\n",
       "      <td>43724432</td>\n",
       "      <td>70.0</td>\n",
       "      <td></td>\n",
       "      <td>2018-11-05</td>\n",
       "      <td>45316086</td>\n",
       "      <td>1159527.0</td>\n",
       "      <td>Stripe Recurring Payment</td>\n",
       "      <td>InvoicePayment</td>\n",
       "      <td>70.0</td>\n",
       "      <td>29</td>\n",
       "      <td>[Boss Laser, Epilog Laser, ShopBot]</td>\n",
       "      <td>*****@****.***</td>\n",
       "      <td>*****</td>\n",
       "      <td>*****</td>\n",
       "      <td>Board Member</td>\n",
       "      <td>True</td>\n",
       "      <td>Active</td>\n",
       "      <td>True</td>\n",
       "    </tr>\n",
       "    <tr>\n",
       "      <th>3</th>\n",
       "      <td>43727162</td>\n",
       "      <td>70.0</td>\n",
       "      <td></td>\n",
       "      <td>2018-10-20</td>\n",
       "      <td>44991418</td>\n",
       "      <td>1159527.0</td>\n",
       "      <td>Stripe Recurring Payment</td>\n",
       "      <td>InvoicePayment</td>\n",
       "      <td>70.0</td>\n",
       "      <td>45</td>\n",
       "      <td>[Epilog Laser, ShopBot]</td>\n",
       "      <td>*****@****.***</td>\n",
       "      <td>*****</td>\n",
       "      <td>*****</td>\n",
       "      <td>Board Member</td>\n",
       "      <td>False</td>\n",
       "      <td>Lapsed</td>\n",
       "      <td>True</td>\n",
       "    </tr>\n",
       "    <tr>\n",
       "      <th>4</th>\n",
       "      <td>44170114</td>\n",
       "      <td>70.0</td>\n",
       "      <td></td>\n",
       "      <td>2018-11-28</td>\n",
       "      <td>45741351</td>\n",
       "      <td>1159527.0</td>\n",
       "      <td>Stripe Recurring Payment</td>\n",
       "      <td>InvoicePayment</td>\n",
       "      <td>70.0</td>\n",
       "      <td>6</td>\n",
       "      <td>[]</td>\n",
       "      <td>*****@****.***</td>\n",
       "      <td>*****</td>\n",
       "      <td>*****</td>\n",
       "      <td>Board Member</td>\n",
       "      <td>True</td>\n",
       "      <td>Active</td>\n",
       "      <td>False</td>\n",
       "    </tr>\n",
       "  </tbody>\n",
       "</table>\n",
       "</div>"
      ],
      "text/plain": [
       "   ContactId  AllocatedValue  \\\n",
       "0   43719926            70.0   \n",
       "1   43724423            30.0   \n",
       "2   43724432            70.0   \n",
       "3   43727162            70.0   \n",
       "4   44170114            70.0   \n",
       "\n",
       "                                             Comment PaymentDate  PaymentId  \\\n",
       "0                                                     2018-11-16   45547773   \n",
       "1  Payment billing details:\\nAndrew Camardella \\n...  2018-12-04   45931504   \n",
       "2                                                     2018-11-05   45316086   \n",
       "3                                                     2018-10-20   44991418   \n",
       "4                                                     2018-11-28   45741351   \n",
       "\n",
       "    TenderId                TenderName            Type  Value  \\\n",
       "0  1159527.0  Stripe Recurring Payment  InvoicePayment   70.0   \n",
       "1  1159526.0                    Stripe  InvoicePayment   30.0   \n",
       "2  1159527.0  Stripe Recurring Payment  InvoicePayment   70.0   \n",
       "3  1159527.0  Stripe Recurring Payment  InvoicePayment   70.0   \n",
       "4  1159527.0  Stripe Recurring Payment  InvoicePayment   70.0   \n",
       "\n",
       "   days_since_last                                     Authorizations  \\\n",
       "0               18                                                 []   \n",
       "1                0  [Boss Laser, Epilog Laser, Universal Laser, Sh...   \n",
       "2               29                [Boss Laser, Epilog Laser, ShopBot]   \n",
       "3               45                            [Epilog Laser, ShopBot]   \n",
       "4                6                                                 []   \n",
       "\n",
       "            Email FirstName LastName MembershipLevel  MembeshipEnabled  \\\n",
       "0  *****@****.***     *****    *****    Board Member              True   \n",
       "1  *****@****.***     *****    *****    Board Member              True   \n",
       "2  *****@****.***     *****    *****    Board Member              True   \n",
       "3  *****@****.***     *****    *****    Board Member             False   \n",
       "4  *****@****.***     *****    *****    Board Member              True   \n",
       "\n",
       "   Status  TermsOfUseAccepted  \n",
       "0  Active                True  \n",
       "1  Active                True  \n",
       "2  Active                True  \n",
       "3  Lapsed                True  \n",
       "4  Active               False  "
      ]
     },
     "execution_count": 11,
     "metadata": {},
     "output_type": "execute_result"
    }
   ],
   "source": [
    "latest.head()"
   ]
  },
  {
   "cell_type": "code",
   "execution_count": 12,
   "metadata": {},
   "outputs": [],
   "source": [
    "good_standing = latest[latest['days_since_last'] <= 30]\n",
    "bad_standing = latest[latest['days_since_last'] > 30]"
   ]
  },
  {
   "cell_type": "code",
   "execution_count": 13,
   "metadata": {},
   "outputs": [
    {
     "data": {
      "text/plain": [
       "MembershipLevel\n",
       "Board Member                         6\n",
       "Full Membership                     54\n",
       "Full Membership - Grandfathered      1\n",
       "Full Volunteer Authorizer            4\n",
       "Grant Membership (Full)              1\n",
       "Starving Hacker                    200\n",
       "Name: Email, dtype: int64"
      ]
     },
     "execution_count": 13,
     "metadata": {},
     "output_type": "execute_result"
    }
   ],
   "source": [
    "good_standing.groupby(\"MembershipLevel\")['Email'].count()"
   ]
  },
  {
   "cell_type": "code",
   "execution_count": 14,
   "metadata": {},
   "outputs": [
    {
     "data": {
      "text/plain": [
       "MembershipLevel\n",
       "Area Host                    5\n",
       "Board Member                 1\n",
       "Full Membership              9\n",
       "Starving Hacker             53\n",
       "Starving Hacker - PayPal     3\n",
       "Volunteer Authorizer         1\n",
       "Name: Email, dtype: int64"
      ]
     },
     "execution_count": 14,
     "metadata": {},
     "output_type": "execute_result"
    }
   ],
   "source": [
    "bad_standing.groupby(\"MembershipLevel\")['Email'].count()"
   ]
  },
  {
   "cell_type": "markdown",
   "metadata": {},
   "source": [
    "# How many members do we have paying what amounts?"
   ]
  },
  {
   "cell_type": "code",
   "execution_count": 15,
   "metadata": {},
   "outputs": [
    {
     "data": {
      "text/plain": [
       "MembershipLevel                  Value\n",
       "Area Host                        30.0       1\n",
       "                                 40.0       2\n",
       "                                 70.0       2\n",
       "Board Member                     30.0       1\n",
       "                                 70.0       6\n",
       "Full Membership                  70.0      63\n",
       "Full Membership - Grandfathered  50.0       1\n",
       "Full Volunteer Authorizer        30.0       4\n",
       "Grant Membership (Full)          30.0       1\n",
       "Starving Hacker                  30.0       1\n",
       "                                 40.0     252\n",
       "Starving Hacker - PayPal         40.0       3\n",
       "Volunteer Authorizer             70.0       1\n",
       "Name: ContactId, dtype: int64"
      ]
     },
     "execution_count": 15,
     "metadata": {},
     "output_type": "execute_result"
    }
   ],
   "source": [
    "# Number of people paying different amounts at each membership level\n",
    "latest.groupby(['MembershipLevel', 'Value'])['ContactId'].count()"
   ]
  },
  {
   "cell_type": "markdown",
   "metadata": {},
   "source": [
    "# How many people are authorized for each thing?"
   ]
  },
  {
   "cell_type": "code",
   "execution_count": 16,
   "metadata": {},
   "outputs": [
    {
     "data": {
      "text/plain": [
       "3D printers                   5\n",
       "Band Saw                      4\n",
       "Boss Laser                   74\n",
       "Bridgeport Mill               3\n",
       "CNC Plasma                    3\n",
       "Clausing Lathe                1\n",
       "Epilog Laser                109\n",
       "Mig Welders                   3\n",
       "Mitre Saw                     3\n",
       "Panel Saw                     4\n",
       "Pneumatic Power Tools         4\n",
       "Powder Coating Equipment      2\n",
       "Sanders                       4\n",
       "ShopBot                     117\n",
       "Table Saw                     6\n",
       "Tig Welders                   2\n",
       "Tormach CNC Mill              1\n",
       "Tube Bending Equipment        1\n",
       "Universal Laser              69\n",
       "Wood Lathe                    1\n",
       "dtype: int64"
      ]
     },
     "execution_count": 16,
     "metadata": {},
     "output_type": "execute_result"
    }
   ],
   "source": [
    "adf.replace(False, 0).replace(True, 1).sum()"
   ]
  },
  {
   "cell_type": "markdown",
   "metadata": {},
   "source": [
    "# What is quorum?"
   ]
  },
  {
   "cell_type": "code",
   "execution_count": 17,
   "metadata": {},
   "outputs": [],
   "source": [
    "# Need voting data"
   ]
  },
  {
   "cell_type": "markdown",
   "metadata": {},
   "source": [
    "# Who is eligible to run for the board?"
   ]
  },
  {
   "cell_type": "code",
   "execution_count": null,
   "metadata": {},
   "outputs": [],
   "source": []
  },
  {
   "cell_type": "markdown",
   "metadata": {},
   "source": [
    "# How many people voted in the last vote?"
   ]
  },
  {
   "cell_type": "code",
   "execution_count": 18,
   "metadata": {},
   "outputs": [],
   "source": [
    "# Need voting data"
   ]
  }
 ],
 "metadata": {
  "kernelspec": {
   "display_name": "Python 3",
   "language": "python",
   "name": "python3"
  },
  "language_info": {
   "codemirror_mode": {
    "name": "ipython",
    "version": 3
   },
   "file_extension": ".py",
   "mimetype": "text/x-python",
   "name": "python",
   "nbconvert_exporter": "python",
   "pygments_lexer": "ipython3",
   "version": "3.5.2"
  }
 },
 "nbformat": 4,
 "nbformat_minor": 2
}
